{
 "cells": [
  {
   "cell_type": "code",
   "execution_count": 1,
   "metadata": {},
   "outputs": [],
   "source": [
    "import os\n",
    "import pickle\n",
    "import matplotlib as mpl\n",
    "import matplotlib.pyplot as plt\n",
    "import matplotlib.animation as animation\n",
    "import numpy as np\n",
    "from IPython.display import HTML\n",
    "import pandas as pd\n",
    "from sklearn.decomposition import PCA\n",
    "%matplotlib widget"
   ]
  },
  {
   "cell_type": "code",
   "execution_count": 2,
   "metadata": {},
   "outputs": [],
   "source": [
    "WESAD_PATH = \"C:/Users/Abhijit/Desktop/PES1201801293/project/WESAD/\""
   ]
  },
  {
   "cell_type": "code",
   "execution_count": 3,
   "metadata": {},
   "outputs": [
    {
     "data": {
      "text/plain": [
       "['S10',\n",
       " 'S11',\n",
       " 'S13',\n",
       " 'S14',\n",
       " 'S15',\n",
       " 'S16',\n",
       " 'S17',\n",
       " 'S2',\n",
       " 'S3',\n",
       " 'S4',\n",
       " 'S5',\n",
       " 'S6',\n",
       " 'S7',\n",
       " 'S8',\n",
       " 'S9']"
      ]
     },
     "execution_count": 3,
     "metadata": {},
     "output_type": "execute_result"
    }
   ],
   "source": [
    "subjects = [s for s in os.listdir(WESAD_PATH) if s.startswith(\"S\")]\n",
    "subjects.sort()\n",
    "subjects"
   ]
  },
  {
   "cell_type": "code",
   "execution_count": 4,
   "metadata": {},
   "outputs": [],
   "source": [
    "#run this only once\n",
    "ORIG_FREQ = 700\n",
    "def expand_data(data, max_size):\n",
    "\n",
    "    data_sync = {}\n",
    "    # copy chest from original\n",
    "    data_sync['signal'] = {'chest': data['signal']['chest']}.copy()\n",
    "    \n",
    "    data_sync['signal']['wrist'] = {}\n",
    "    # copy labels, subject from original\n",
    "    data_sync['label'] = data['label']\n",
    "    data_sync['subject'] = data['subject']\n",
    "    \n",
    "    # separate chest ACC into 3 components\n",
    "    data_sync['signal']['chest']['ACC1'] = data_sync['signal']['chest']['ACC'][:, 0]\n",
    "    data_sync['signal']['chest']['ACC2'] = data_sync['signal']['chest']['ACC'][:, 1]\n",
    "    data_sync['signal']['chest']['ACC3'] = data_sync['signal']['chest']['ACC'][:, 2]\n",
    "    del data_sync['signal']['chest']['ACC']\n",
    "\n",
    "    # synchronise wrist by duplicating the data (NOT SURE IF THIS IS RIGHT)\n",
    "    data_sync['signal']['wrist']['BVP'] = np.repeat(data['signal']['wrist']['BVP'], 700//64 + 1, axis=0)[:max_size]\n",
    "    data_sync['signal']['wrist']['ACC'] = np.repeat(data['signal']['wrist']['ACC'], 700//32 + 1, axis=0)[:max_size]\n",
    "    data_sync['signal']['wrist']['EDA'] = np.repeat(data['signal']['wrist']['EDA'], 700//4 + 1, axis=0)[:max_size]\n",
    "    data_sync['signal']['wrist']['TEMP'] = np.repeat(data['signal']['wrist']['TEMP'], 700//4 + 1, axis=0)[:max_size]\n",
    "    \n",
    "    # separate ACC into 3 components\n",
    "    data_sync['signal']['wrist']['ACC1'] = data_sync['signal']['wrist']['ACC'][:, 0]\n",
    "    data_sync['signal']['wrist']['ACC2'] = data_sync['signal']['wrist']['ACC'][:, 1]\n",
    "    data_sync['signal']['wrist']['ACC3'] = data_sync['signal']['wrist']['ACC'][:, 2]\n",
    "    del data_sync['signal']['wrist']['ACC']\n",
    "    return data_sync"
   ]
  },
  {
   "cell_type": "code",
   "execution_count": 5,
   "metadata": {},
   "outputs": [],
   "source": [
    "def flatten_sync_data(data):\n",
    "    data_flat = dict()\n",
    "    for key, value in data['signal'].items():\n",
    "        for key2, value2 in data['signal'][key].items():\n",
    "            if len(value2.shape) > 1:\n",
    "                data_flat[f\"{key}_{key2}\"] = value2.flatten()\n",
    "            else:\n",
    "                data_flat[f\"{key}_{key2}\"] = value2\n",
    "    data_flat['label'] = data['label']\n",
    "    data_flat['subject'] = data['subject']\n",
    "    return data_flat"
   ]
  },
  {
   "cell_type": "code",
   "execution_count": 6,
   "metadata": {},
   "outputs": [
    {
     "name": "stdout",
     "output_type": "stream",
     "text": [
      "Loading S10\n",
      "Expanding S10\n",
      "Flattening S10\n",
      "Converting to DataFrame S10\n",
      "Exporting S10 to CSV\n",
      "Done S10\n",
      "Loading S11\n",
      "Expanding S11\n",
      "Flattening S11\n",
      "Converting to DataFrame S11\n",
      "Exporting S11 to CSV\n",
      "Done S11\n",
      "Loading S13\n",
      "Expanding S13\n",
      "Flattening S13\n",
      "Converting to DataFrame S13\n",
      "Exporting S13 to CSV\n",
      "Done S13\n",
      "Loading S14\n",
      "Expanding S14\n",
      "Flattening S14\n",
      "Converting to DataFrame S14\n",
      "Exporting S14 to CSV\n",
      "Done S14\n",
      "Loading S15\n",
      "Expanding S15\n",
      "Flattening S15\n",
      "Converting to DataFrame S15\n",
      "Exporting S15 to CSV\n",
      "Done S15\n",
      "Loading S16\n",
      "Expanding S16\n",
      "Flattening S16\n",
      "Converting to DataFrame S16\n",
      "Exporting S16 to CSV\n",
      "Done S16\n",
      "Loading S17\n",
      "Expanding S17\n",
      "Flattening S17\n",
      "Converting to DataFrame S17\n",
      "Exporting S17 to CSV\n",
      "Done S17\n",
      "Loading S2\n",
      "Expanding S2\n",
      "Flattening S2\n",
      "Converting to DataFrame S2\n",
      "Exporting S2 to CSV\n",
      "Done S2\n",
      "Loading S3\n",
      "Expanding S3\n",
      "Flattening S3\n",
      "Converting to DataFrame S3\n",
      "Exporting S3 to CSV\n",
      "Done S3\n",
      "Loading S4\n",
      "Expanding S4\n",
      "Flattening S4\n",
      "Converting to DataFrame S4\n",
      "Exporting S4 to CSV\n",
      "Done S4\n",
      "Loading S5\n",
      "Expanding S5\n",
      "Flattening S5\n",
      "Converting to DataFrame S5\n",
      "Exporting S5 to CSV\n",
      "Done S5\n",
      "Loading S6\n",
      "Expanding S6\n",
      "Flattening S6\n",
      "Converting to DataFrame S6\n",
      "Exporting S6 to CSV\n",
      "Done S6\n",
      "Loading S7\n",
      "Expanding S7\n",
      "Flattening S7\n",
      "Converting to DataFrame S7\n",
      "Exporting S7 to CSV\n",
      "Done S7\n",
      "Loading S8\n",
      "Expanding S8\n",
      "Flattening S8\n",
      "Converting to DataFrame S8\n",
      "Exporting S8 to CSV\n",
      "Done S8\n",
      "Loading S9\n",
      "Expanding S9\n",
      "Flattening S9\n",
      "Converting to DataFrame S9\n",
      "Exporting S9 to CSV\n",
      "Done S9\n"
     ]
    }
   ],
   "source": [
    "# run this only once\n",
    "for subject in subjects:\n",
    "    print(f\"Loading {subject}\")\n",
    "    data = pickle.load(open(os.path.join(WESAD_PATH,\n",
    "                                     subject,\n",
    "                                     f\"{subject}.pkl\"), \"rb\"),\n",
    "                   encoding=\"latin1\")\n",
    "    print(f\"Expanding {subject}\")\n",
    "    data_sync = expand_data(data, len(data['label']))\n",
    "    print(f\"Flattening {subject}\")\n",
    "    data_flat = flatten_sync_data(data_sync)\n",
    "    print(f\"Converting to DataFrame {subject}\")\n",
    "    df = pd.DataFrame(data_flat)\n",
    "    print(f\"Exporting {subject} to CSV\")\n",
    "    df.to_csv(f'{subject}.csv')\n",
    "    print(f\"Done {subject}\")"
   ]
  },
  {
   "cell_type": "code",
   "execution_count": 34,
   "metadata": {},
   "outputs": [],
   "source": [
    "# selected_subject = subjects[2]"
   ]
  },
  {
   "cell_type": "code",
   "execution_count": 145,
   "metadata": {},
   "outputs": [],
   "source": [
    "# data = pd.read_csv(f\"{selected_subject}.csv\")\n",
    "# data"
   ]
  },
  {
   "cell_type": "code",
   "execution_count": 146,
   "metadata": {},
   "outputs": [],
   "source": [
    "# data['chest_ECG'].corr(data['chest_Temp'])"
   ]
  },
  {
   "cell_type": "code",
   "execution_count": 147,
   "metadata": {},
   "outputs": [],
   "source": [
    "# data.isnull().sum()"
   ]
  },
  {
   "cell_type": "code",
   "execution_count": 148,
   "metadata": {},
   "outputs": [],
   "source": [
    "# dataset = []\n",
    "# for i in range(15):\n",
    "#     dataset.append(subjects[i])\n",
    "# for i in dataset:\n",
    "#     d = pd.read_csv(f\"{i}.csv\")\n",
    "#     print(d.isnull().sum())"
   ]
  },
  {
   "cell_type": "code",
   "execution_count": 149,
   "metadata": {},
   "outputs": [],
   "source": [
    "# len(data)"
   ]
  },
  {
   "cell_type": "code",
   "execution_count": 150,
   "metadata": {},
   "outputs": [],
   "source": [
    "# outliers=[]\n",
    "# def detect_outlier(data_1):\n",
    "    \n",
    "#     threshold=3\n",
    "#     mean_1 = np.mean(data_1)\n",
    "#     std_1 =np.std(data_1)\n",
    "    \n",
    "    \n",
    "#     for y in data_1:\n",
    "#         z_score= (y - mean_1)/std_1 \n",
    "#         if np.abs(z_score) > threshold:\n",
    "#             outliers.append(y)\n",
    "#     return outliers\n",
    "# outlier_datapoints = detect_outlier(data)\n",
    "# print(outlier_datapoints)"
   ]
  },
  {
   "cell_type": "code",
   "execution_count": 151,
   "metadata": {},
   "outputs": [],
   "source": [
    "# chest_ecg = data['chest_ECG']\n",
    "\n",
    "# len(chest_ecg)"
   ]
  },
  {
   "cell_type": "code",
   "execution_count": 152,
   "metadata": {},
   "outputs": [],
   "source": [
    "# sorted(chest_ecg)"
   ]
  },
  {
   "cell_type": "code",
   "execution_count": 153,
   "metadata": {},
   "outputs": [],
   "source": [
    "# q1, q3= np.percentile(chest_ecg,[25,75])"
   ]
  },
  {
   "cell_type": "code",
   "execution_count": 154,
   "metadata": {},
   "outputs": [],
   "source": [
    "# q1,q3"
   ]
  },
  {
   "cell_type": "code",
   "execution_count": 155,
   "metadata": {},
   "outputs": [],
   "source": [
    "# iqr = q3 - q1\n",
    "# iqr\n",
    "# lower_bound = q1 - (1.5 * (abs(q1)))\n",
    "# upper_bound = q3 + (1.5 * (abs(q3)))"
   ]
  },
  {
   "cell_type": "code",
   "execution_count": 157,
   "metadata": {},
   "outputs": [],
   "source": [
    "# lower_bound,upper_bound"
   ]
  },
  {
   "cell_type": "code",
   "execution_count": 158,
   "metadata": {},
   "outputs": [],
   "source": [
    "# c = 0\n",
    "# for i in chest_ecg:\n",
    "#     if i<lower_bound or i>upper_bound:\n",
    "#         c+=1 \n",
    "# print(c)"
   ]
  },
  {
   "cell_type": "code",
   "execution_count": 159,
   "metadata": {},
   "outputs": [],
   "source": [
    "# import matplotlib.pyplot as plot\n",
    "\n",
    "# data['chest_ECG'].plot.box(title=\"Box and whisker plot for Chest ECG\", grid=True);\n",
    "\n",
    "# plot.show(block=True);"
   ]
  },
  {
   "cell_type": "code",
   "execution_count": 160,
   "metadata": {},
   "outputs": [],
   "source": [
    "# data['chest_ECG'].corr(data['chest_EMG'])"
   ]
  },
  {
   "cell_type": "code",
   "execution_count": 161,
   "metadata": {},
   "outputs": [],
   "source": [
    "# a = pd.read_csv(f\"{'s2'}.csv\")"
   ]
  },
  {
   "cell_type": "code",
   "execution_count": null,
   "metadata": {},
   "outputs": [],
   "source": [
    "# b = pd.read_csv(f\"{'s4'}.csv\")\n",
    "# c = pd.read_csv(f\"{'s5'}.csv\")\n",
    "# d = pd.read_csv(f\"{'s6'}.csv\")\n",
    "# e = pd.read_csv(f\"{'s7'}.csv\")\n",
    "# f = pd.read_csv(f\"{'s8'}.csv\")\n",
    "# g = pd.read_csv(f\"{'s9'}.csv\")"
   ]
  },
  {
   "cell_type": "code",
   "execution_count": null,
   "metadata": {},
   "outputs": [],
   "source": [
    "# a['chest_ECG'].mean()"
   ]
  },
  {
   "cell_type": "code",
   "execution_count": null,
   "metadata": {},
   "outputs": [],
   "source": [
    "# l.append(a['chest_ECG'].mean())\n",
    "# l.append(b['chest_ECG'].mean())\n",
    "# l.append(c['chest_ECG'].mean())\n",
    "# l.append(d['chest_ECG'].mean())\n",
    "# l.append(e['chest_ECG'].mean())\n",
    "# l.append(f['chest_ECG'].mean())\n",
    "# l.append(g['chest_ECG'].mean())\n",
    "# l\n",
    "\n",
    "# k = [23,25,23,27,25,27,28]"
   ]
  },
  {
   "cell_type": "code",
   "execution_count": null,
   "metadata": {},
   "outputs": [],
   "source": [
    "# data['wrist_BVP'].corr(data['wrist_ACC1'])"
   ]
  },
  {
   "cell_type": "code",
   "execution_count": null,
   "metadata": {},
   "outputs": [],
   "source": [
    "# subject_infos = []\n",
    "# subjects_to_be_calculated = []\n",
    "# for i in range(15):\n",
    "#     subjects_to_be_calculated.append(subjects[i])\n",
    "# for selected_subject in subjects_to_be_calculated:\n",
    "#         data = pd.read_csv(f\"{selected_subject}.csv\")\n",
    "#         subject_infos.append(data.describe())\n",
    "\n",
    "# for subject, des in zip(subjects, subject_infos):\n",
    "#     display(des)\n"
   ]
  },
  {
   "cell_type": "code",
   "execution_count": null,
   "metadata": {},
   "outputs": [],
   "source": [
    "# subject_infos[0]['chest_ECG']"
   ]
  },
  {
   "cell_type": "code",
   "execution_count": null,
   "metadata": {},
   "outputs": [],
   "source": [
    "# labels = []\n",
    "# for i in range(15):\n",
    "#     if i<10:\n",
    "#         labels.append(\"S\"+str(i+2))\n",
    "#     else:\n",
    "#         labels.append(\"S\"+str(i+3))\n",
    "# means = []\n",
    "# std_dev = []\n",
    "# for i in range(15):\n",
    "#     means.append(subject_infos[i]['chest_Temp']['mean'])\n",
    "#     std_dev.append(subject_infos[i]['chest_ECG']['std'])\n",
    "# fig = plt.figure()\n",
    "# ax = fig.add_axes([0,0,1,1])\n",
    "# ax.set_ylim([30,35.5])\n",
    "# ax.set_ylabel('Temperature in Degrees')\n",
    "# ax.set_title('CHEST Temp means of differents Subjects')\n",
    "# ax.set_xticks(x)\n",
    "# ax.set_xticklabels(labels)\n",
    "# ax.bar(labels,means)\n",
    "# plt.show()"
   ]
  },
  {
   "cell_type": "code",
   "execution_count": 39,
   "metadata": {},
   "outputs": [],
   "source": [
    "selected_subject = subjects[10]\n",
    "data = pd.read_csv(f\"{selected_subject}.csv\")\n",
    "new_data = data[data[\"label\"].isin((1,2,3,4))]\n",
    "s = pd.Series([i+1 for i in range(len(new_data))])\n",
    "new_data = new_data.set_index([s])"
   ]
  },
  {
   "cell_type": "code",
   "execution_count": 40,
   "metadata": {},
   "outputs": [],
   "source": [
    "pca = PCA(n_components=2)"
   ]
  },
  {
   "cell_type": "code",
   "execution_count": 41,
   "metadata": {},
   "outputs": [],
   "source": [
    "data_columns = [\n",
    "    'chest_ECG', 'chest_EMG', 'chest_EDA', 'chest_Temp',\n",
    "    'chest_Resp', 'chest_ACC1', 'chest_ACC2', 'chest_ACC3', 'wrist_BVP',\n",
    "    'wrist_EDA', 'wrist_TEMP', 'wrist_ACC1', 'wrist_ACC2', 'wrist_ACC3']\n",
    "#data_1 = data.copy()\n",
    "X = new_data[data_columns]\n",
    "#X = np.array(X)"
   ]
  },
  {
   "cell_type": "code",
   "execution_count": null,
   "metadata": {},
   "outputs": [],
   "source": []
  },
  {
   "cell_type": "code",
   "execution_count": 43,
   "metadata": {},
   "outputs": [
    {
     "data": {
      "text/plain": [
       "PCA(copy=True, iterated_power='auto', n_components=2, random_state=None,\n",
       "  svd_solver='auto', tol=0.0, whiten=False)"
      ]
     },
     "execution_count": 43,
     "metadata": {},
     "output_type": "execute_result"
    }
   ],
   "source": [
    "pca.fit(X)"
   ]
  },
  {
   "cell_type": "code",
   "execution_count": 44,
   "metadata": {},
   "outputs": [
    {
     "data": {
      "text/plain": [
       "array([0.91940077, 0.04111421])"
      ]
     },
     "execution_count": 44,
     "metadata": {},
     "output_type": "execute_result"
    }
   ],
   "source": [
    "pca.explained_variance_ratio_"
   ]
  },
  {
   "cell_type": "code",
   "execution_count": null,
   "metadata": {},
   "outputs": [],
   "source": []
  },
  {
   "cell_type": "code",
   "execution_count": 46,
   "metadata": {},
   "outputs": [
    {
     "data": {
      "text/html": [
       "<div>\n",
       "<style scoped>\n",
       "    .dataframe tbody tr th:only-of-type {\n",
       "        vertical-align: middle;\n",
       "    }\n",
       "\n",
       "    .dataframe tbody tr th {\n",
       "        vertical-align: top;\n",
       "    }\n",
       "\n",
       "    .dataframe thead th {\n",
       "        text-align: right;\n",
       "    }\n",
       "</style>\n",
       "<table border=\"1\" class=\"dataframe\">\n",
       "  <thead>\n",
       "    <tr style=\"text-align: right;\">\n",
       "      <th></th>\n",
       "      <th>principal component 1</th>\n",
       "      <th>principal component 2</th>\n",
       "      <th>label</th>\n",
       "    </tr>\n",
       "  </thead>\n",
       "  <tbody>\n",
       "    <tr>\n",
       "      <th>0</th>\n",
       "      <td>25.571737</td>\n",
       "      <td>-5.139493</td>\n",
       "      <td>NaN</td>\n",
       "    </tr>\n",
       "    <tr>\n",
       "      <th>1</th>\n",
       "      <td>25.571733</td>\n",
       "      <td>-5.139678</td>\n",
       "      <td>1.0</td>\n",
       "    </tr>\n",
       "    <tr>\n",
       "      <th>2</th>\n",
       "      <td>25.571734</td>\n",
       "      <td>-5.139239</td>\n",
       "      <td>1.0</td>\n",
       "    </tr>\n",
       "    <tr>\n",
       "      <th>3</th>\n",
       "      <td>25.571735</td>\n",
       "      <td>-5.139442</td>\n",
       "      <td>1.0</td>\n",
       "    </tr>\n",
       "    <tr>\n",
       "      <th>4</th>\n",
       "      <td>25.571734</td>\n",
       "      <td>-5.139677</td>\n",
       "      <td>1.0</td>\n",
       "    </tr>\n",
       "  </tbody>\n",
       "</table>\n",
       "</div>"
      ],
      "text/plain": [
       "   principal component 1  principal component 2  label\n",
       "0              25.571737              -5.139493    NaN\n",
       "1              25.571733              -5.139678    1.0\n",
       "2              25.571734              -5.139239    1.0\n",
       "3              25.571735              -5.139442    1.0\n",
       "4              25.571734              -5.139677    1.0"
      ]
     },
     "execution_count": 46,
     "metadata": {},
     "output_type": "execute_result"
    }
   ],
   "source": [
    "principalComponents=pca.fit_transform(X) \n",
    "principalDf=pd.DataFrame(data=principalComponents,columns=['principal component 1','principal component 2']) \n",
    "principalDf.head()\n",
    "finalDf=pd.concat([principalDf,new_data['label']],axis=1)\n",
    "finalDf.head()"
   ]
  },
  {
   "cell_type": "code",
   "execution_count": null,
   "metadata": {},
   "outputs": [],
   "source": []
  },
  {
   "cell_type": "code",
   "execution_count": 49,
   "metadata": {},
   "outputs": [
    {
     "data": {
      "image/png": "[encoded data removed]",
      "text/plain": [
       "<Figure size 432x432 with 2 Axes>"
      ]
     },
     "metadata": {
      "needs_background": "light"
     },
     "output_type": "display_data"
    }
   ],
   "source": [
    "fig, ax = plt.subplots(1,1, figsize=(6,6))\n",
    "# define the data\n",
    "X = finalDf['principal component 1']\n",
    "Y = finalDf['principal component 2']\n",
    "N = new_data['label'].nunique()\n",
    "# define the colormap\n",
    "cmap = plt.cm.jet\n",
    "# extract all colors from the .jet map\n",
    "cmaplist = [cmap(i) for i in range(cmap.N)]\n",
    "# create the new map\n",
    "cmap = cmap.from_list('Custom cmap', cmaplist, cmap.N)\n",
    "\n",
    "# define the bins and normalize\n",
    "bounds = np.linspace(0,N,N+1)\n",
    "norm = mpl.colors.BoundaryNorm(bounds, cmap.N)\n",
    "\n",
    "# make the scatter\n",
    "scat = ax.scatter(X,Y,c=finalDf['label'],cmap=cmap,norm=norm)\n",
    "# create the colorbar\n",
    "cb = plt.colorbar(scat, spacing='proportional',ticks=bounds)\n",
    "ax.set_title('scatter Plot for PCA')\n",
    "plt.show()"
   ]
  },
  {
   "cell_type": "code",
   "execution_count": null,
   "metadata": {},
   "outputs": [],
   "source": []
  },
  {
   "cell_type": "code",
   "execution_count": null,
   "metadata": {},
   "outputs": [],
   "source": []
  },
  {
   "cell_type": "code",
   "execution_count": null,
   "metadata": {},
   "outputs": [],
   "source": []
  },
  {
   "cell_type": "code",
   "execution_count": null,
   "metadata": {},
   "outputs": [],
   "source": []
  },
  {
   "cell_type": "code",
   "execution_count": null,
   "metadata": {},
   "outputs": [],
   "source": []
  },
  {
   "cell_type": "code",
   "execution_count": null,
   "metadata": {},
   "outputs": [],
   "source": []
  },
  {
   "cell_type": "code",
   "execution_count": null,
   "metadata": {},
   "outputs": [],
   "source": []
  }
 ],
 "metadata": {
  "kernelspec": {
   "display_name": "Python 3",
   "language": "python",
   "name": "python3"
  },
  "language_info": {
   "codemirror_mode": {
    "name": "ipython",
    "version": 3
   },
   "file_extension": ".py",
   "mimetype": "text/x-python",
   "name": "python",
   "nbconvert_exporter": "python",
   "pygments_lexer": "ipython3",
   "version": "3.7.3"
  }
 },
 "nbformat": 4,
 "nbformat_minor": 2
}
