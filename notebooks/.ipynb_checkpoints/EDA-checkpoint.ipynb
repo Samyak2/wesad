{
 "cells": [
  {
   "cell_type": "code",
   "execution_count": 1,
   "metadata": {
    "ExecuteTime": {
     "end_time": "2020-09-25T11:34:04.110463Z",
     "start_time": "2020-09-25T11:34:04.049030Z"
    }
   },
   "outputs": [],
   "source": [
    "import os\n",
    "import pickle\n",
    "import matplotlib.pyplot as plt\n",
    "import numpy as np\n",
    "\n",
    "%matplotlib widget"
   ]
  },
  {
   "cell_type": "code",
   "execution_count": 2,
   "metadata": {
    "ExecuteTime": {
     "end_time": "2020-09-25T11:34:07.696757Z",
     "start_time": "2020-09-25T11:34:07.693652Z"
    }
   },
   "outputs": [],
   "source": [
    "WESAD_PATH = \"./WESAD/\""
   ]
  },
  {
   "cell_type": "code",
   "execution_count": 3,
   "metadata": {
    "ExecuteTime": {
     "end_time": "2020-09-25T11:34:08.088094Z",
     "start_time": "2020-09-25T11:34:08.078711Z"
    }
   },
   "outputs": [],
   "source": [
    "subjects = [s for s in os.listdir(WESAD_PATH) if s.startswith(\"S\")]"
   ]
  },
  {
   "cell_type": "code",
   "execution_count": 4,
   "metadata": {
    "ExecuteTime": {
     "end_time": "2020-09-25T11:34:08.477128Z",
     "start_time": "2020-09-25T11:34:08.469895Z"
    }
   },
   "outputs": [],
   "source": [
    "subjects.sort()"
   ]
  },
  {
   "cell_type": "code",
   "execution_count": 5,
   "metadata": {
    "ExecuteTime": {
     "end_time": "2020-09-25T11:34:08.967177Z",
     "start_time": "2020-09-25T11:34:08.951809Z"
    }
   },
   "outputs": [
    {
     "data": {
      "text/plain": [
       "['S10',\n",
       " 'S11',\n",
       " 'S13',\n",
       " 'S14',\n",
       " 'S15',\n",
       " 'S16',\n",
       " 'S17',\n",
       " 'S2',\n",
       " 'S3',\n",
       " 'S4',\n",
       " 'S5',\n",
       " 'S6',\n",
       " 'S7',\n",
       " 'S8',\n",
       " 'S9']"
      ]
     },
     "execution_count": 5,
     "metadata": {},
     "output_type": "execute_result"
    }
   ],
   "source": [
    "subjects"
   ]
  },
  {
   "cell_type": "code",
   "execution_count": 6,
   "metadata": {
    "ExecuteTime": {
     "end_time": "2020-09-25T11:34:10.190011Z",
     "start_time": "2020-09-25T11:34:10.182450Z"
    }
   },
   "outputs": [],
   "source": [
    "selected_subject = subjects[0]"
   ]
  },
  {
   "cell_type": "code",
   "execution_count": 7,
   "metadata": {
    "ExecuteTime": {
     "end_time": "2020-09-25T11:34:18.107622Z",
     "start_time": "2020-09-25T11:34:11.236562Z"
    }
   },
   "outputs": [],
   "source": [
    "data = pickle.load(open(os.path.join(WESAD_PATH,\n",
    "                                     selected_subject,\n",
    "                                     f\"{selected_subject}.pkl\"), \"rb\"),\n",
    "                   encoding=\"latin1\")"
   ]
  },
  {
   "cell_type": "code",
   "execution_count": 8,
   "metadata": {
    "ExecuteTime": {
     "end_time": "2020-09-25T11:34:18.129731Z",
     "start_time": "2020-09-25T11:34:18.110273Z"
    }
   },
   "outputs": [
    {
     "data": {
      "text/plain": [
       "{'signal': {'chest': {'ACC': array([[ 1.12779999,  0.15199995,  0.34159994],\n",
       "          [ 1.09319997,  0.18879998,  0.29219997],\n",
       "          [ 1.03539991,  0.20940006,  0.18579996],\n",
       "          ...,\n",
       "          [ 0.89419997,  0.03380001, -0.21460003],\n",
       "          [ 0.89499998,  0.03419995, -0.21820003],\n",
       "          [ 0.89639997,  0.03260005, -0.22140002]]),\n",
       "   'ECG': array([[-1.33369446],\n",
       "          [-1.32774353],\n",
       "          [-1.32206726],\n",
       "          ...,\n",
       "          [ 0.53050232],\n",
       "          [ 0.53375244],\n",
       "          [ 0.54057312]]),\n",
       "   'EMG': array([[-0.01368713],\n",
       "          [-0.02192688],\n",
       "          [-0.00901794],\n",
       "          ...,\n",
       "          [ 0.00654602],\n",
       "          [-0.00141907],\n",
       "          [-0.00814819]]),\n",
       "   'EDA': array([[0.71601868],\n",
       "          [0.7144928 ],\n",
       "          [0.71563721],\n",
       "          ...,\n",
       "          [1.70440674],\n",
       "          [1.74827576],\n",
       "          [1.72462463]]),\n",
       "   'Temp': array([[33.69586 ],\n",
       "          [33.741333],\n",
       "          [33.71707 ],\n",
       "          ...,\n",
       "          [35.020447],\n",
       "          [34.932495],\n",
       "          [34.944824]], dtype=float32),\n",
       "   'Resp': array([[ 0.21362305],\n",
       "          [ 0.19226074],\n",
       "          [ 0.20599365],\n",
       "          ...,\n",
       "          [-2.18353271],\n",
       "          [-2.003479  ],\n",
       "          [-2.03094482]])},\n",
       "  'wrist': {'ACC': array([[ 107., -105.,  127.],\n",
       "          [  67.,  -52.,   45.],\n",
       "          [  26.,   40.,    0.],\n",
       "          ...,\n",
       "          [  54.,   23.,   24.],\n",
       "          [  54.,   23.,   24.],\n",
       "          [  54.,   23.,   24.]]),\n",
       "   'BVP': array([[10.17],\n",
       "          [12.04],\n",
       "          [13.01],\n",
       "          ...,\n",
       "          [57.59],\n",
       "          [65.93],\n",
       "          [69.86]]),\n",
       "   'EDA': array([[0.349215],\n",
       "          [0.346656],\n",
       "          [0.350494],\n",
       "          ...,\n",
       "          [0.931574],\n",
       "          [0.932854],\n",
       "          [0.932854]]),\n",
       "   'TEMP': array([[33.13],\n",
       "          [33.16],\n",
       "          [33.16],\n",
       "          ...,\n",
       "          [30.83],\n",
       "          [30.83],\n",
       "          [30.83]])}},\n",
       " 'label': array([0, 0, 0, ..., 0, 0, 0]),\n",
       " 'subject': 'S10'}"
      ]
     },
     "execution_count": 8,
     "metadata": {},
     "output_type": "execute_result"
    }
   ],
   "source": [
    "data"
   ]
  },
  {
   "cell_type": "code",
   "execution_count": 13,
   "metadata": {
    "ExecuteTime": {
     "end_time": "2020-09-25T11:34:18.807339Z",
     "start_time": "2020-09-25T11:34:18.133282Z"
    }
   },
   "outputs": [
    {
     "data": {
      "application/vnd.jupyter.widget-view+json": {
       "model_id": "fdf9a76392c64482aacb51c2d4736e41",
       "version_major": 2,
       "version_minor": 0
      },
      "text/plain": [
       "Canvas(toolbar=Toolbar(toolitems=[('Home', 'Reset original view', 'home', 'home'), ('Back', 'Back to previous …"
      ]
     },
     "metadata": {},
     "output_type": "display_data"
    }
   ],
   "source": [
    "fig, ax = plt.subplots()\n",
    "ax.plot(data['signal']['chest']['ACC'][:1000])\n",
    "plt.show()"
   ]
  },
  {
   "cell_type": "code",
   "execution_count": 14,
   "metadata": {
    "ExecuteTime": {
     "end_time": "2020-09-25T11:34:19.071202Z",
     "start_time": "2020-09-25T11:34:18.811712Z"
    }
   },
   "outputs": [
    {
     "data": {
      "application/vnd.jupyter.widget-view+json": {
       "model_id": "ca5e26de91004529b6fac57df590f6e6",
       "version_major": 2,
       "version_minor": 0
      },
      "text/plain": [
       "Canvas(toolbar=Toolbar(toolitems=[('Home', 'Reset original view', 'home', 'home'), ('Back', 'Back to previous …"
      ]
     },
     "metadata": {},
     "output_type": "display_data"
    }
   ],
   "source": [
    "fig, ax = plt.subplots()\n",
    "ax.plot(data['signal']['chest']['ECG'][:1000])\n",
    "plt.show()"
   ]
  },
  {
   "cell_type": "code",
   "execution_count": null,
   "metadata": {},
   "outputs": [],
   "source": []
  }
 ],
 "metadata": {
  "@webio": {
   "lastCommId": null,
   "lastKernelId": null
  },
  "kernelspec": {
   "display_name": "Python 3",
   "language": "python",
   "name": "python3"
  },
  "language_info": {
   "codemirror_mode": {
    "name": "ipython",
    "version": 3
   },
   "file_extension": ".py",
   "mimetype": "text/x-python",
   "name": "python",
   "nbconvert_exporter": "python",
   "pygments_lexer": "ipython3",
   "version": "3.7.9"
  },
  "toc": {
   "base_numbering": 1,
   "nav_menu": {},
   "number_sections": true,
   "sideBar": true,
   "skip_h1_title": false,
   "title_cell": "Table of Contents",
   "title_sidebar": "Contents",
   "toc_cell": false,
   "toc_position": {},
   "toc_section_display": true,
   "toc_window_display": false
  }
 },
 "nbformat": 4,
 "nbformat_minor": 4
}
